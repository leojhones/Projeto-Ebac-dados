{
 "cells": [
  {
   "cell_type": "markdown",
   "id": "b760a68d",
   "metadata": {},
   "source": [
    "# 1. Teste de Gravidez"
   ]
  },
  {
   "cell_type": "code",
   "execution_count": 1,
   "id": "0414269b",
   "metadata": {},
   "outputs": [
    {
     "name": "stdout",
     "output_type": "stream",
     "text": [
      "Positivo\n"
     ]
    }
   ],
   "source": [
    "sexo = 'F'\n",
    "beta_hcg = 6\n",
    "\n",
    "# Verificação do sexo e do valor de beta-HCG\n",
    "if sexo == 'M':\n",
    "    resultado = \"Indivíduo do sexo masculino\"\n",
    "elif sexo == 'F' and beta_hcg > 5:\n",
    "    resultado = \"Positivo\"\n",
    "else:\n",
    "    resultado = \"Negativo\"\n",
    "\n",
    "# Impressão do resultado\n",
    "print(resultado)"
   ]
  },
  {
   "cell_type": "markdown",
   "id": "90bd92ef",
   "metadata": {},
   "source": [
    "# 2. Renomeando Variáveis"
   ]
  },
  {
   "cell_type": "code",
   "execution_count": 2,
   "id": "ec900e49",
   "metadata": {},
   "outputs": [
    {
     "name": "stdout",
     "output_type": "stream",
     "text": [
      "nome\n"
     ]
    }
   ],
   "source": [
    "# Dicionário de tradução\n",
    "traducao_variaveis = {\n",
    "    'name': 'nome',\n",
    "    'age': 'idade',\n",
    "    'income': 'renda'\n",
    "}\n",
    "\n",
    "# Exemplo de uso do dicionário para tradução\n",
    "nome_original = 'name'\n",
    "nome_traduzido = traducao_variaveis[nome_original]\n",
    "print(nome_traduzido)  # Isso imprimirá 'nome'"
   ]
  },
  {
   "cell_type": "markdown",
   "id": "7c717f81",
   "metadata": {},
   "source": [
    "# 3. É Divisivel"
   ]
  },
  {
   "cell_type": "code",
   "execution_count": 4,
   "id": "2a5b5ce3",
   "metadata": {},
   "outputs": [
    {
     "name": "stdout",
     "output_type": "stream",
     "text": [
      "20 é divisível por 4.\n",
      "15 é divisível por 3.\n",
      "25 é divisível por 5.\n",
      "18 não é divisível por 4.\n"
     ]
    }
   ],
   "source": [
    "# Função para verificar se N é divisível por P\n",
    "\n",
    "def verifica_divisibilidade(N, P):\n",
    "    if N % P == 0:\n",
    "        return f\"{N} é divisível por {P}.\"\n",
    "    else:\n",
    "        return f\"{N} não é divisível por {P}.\"\n",
    "\n",
    "# Exemplos de uso\n",
    "N = 20\n",
    "P = 4\n",
    "resultado = verifica_divisibilidade(N, P)\n",
    "print(resultado)# Verificar divisibilidade para várias combinações de N e P\n",
    "combinacoes = [(15, 3), (25, 5), (18, 4)]\n",
    "\n",
    "for N, P in combinacoes:\n",
    "    resultado = verifica_divisibilidade(N, P)\n",
    "    print(resultado)"
   ]
  },
  {
   "cell_type": "markdown",
   "id": "09b5effd",
   "metadata": {},
   "source": [
    "# 4. Números Primos"
   ]
  },
  {
   "cell_type": "code",
   "execution_count": 5,
   "id": "6af3bdd1",
   "metadata": {},
   "outputs": [
    {
     "name": "stdout",
     "output_type": "stream",
     "text": [
      "17 é um número primo.\n"
     ]
    }
   ],
   "source": [
    "def verifica_primo(N):\n",
    "    # Se N for menor ou igual a 1, não é primo\n",
    "    if N <= 1:\n",
    "        return f\"{N} não é um número primo.\"\n",
    "\n",
    "    # Verifica se N é divisível por qualquer número de 2 a N-1\n",
    "    for i in range(2, N):\n",
    "        if N % i == 0:\n",
    "            return f\"{N} não é um número primo.\"\n",
    "\n",
    "    # Se nenhum divisor foi encontrado, N é primo\n",
    "    return f\"{N} é um número primo.\"\n",
    "\n",
    "# Exemplo de uso\n",
    "numero = 17  # Altere o valor de acordo com o número que você deseja verificar\n",
    "resultado = verifica_primo(numero)\n",
    "print(resultado)"
   ]
  },
  {
   "cell_type": "markdown",
   "id": "e55c4af8",
   "metadata": {},
   "source": [
    "# 5. Desafio"
   ]
  },
  {
   "cell_type": "code",
   "execution_count": 1,
   "id": "975994cb",
   "metadata": {},
   "outputs": [
    {
     "name": "stdout",
     "output_type": "stream",
     "text": [
      "17 é um número primo.\n"
     ]
    }
   ],
   "source": [
    "def verifica_primo_otimizado(N):\n",
    "    # Se N for menor ou igual a 1, não é primo\n",
    "    if N <= 1:\n",
    "        return f\"{N} não é um número primo.\"\n",
    "\n",
    "    # Se N for 2, é primo\n",
    "    if N == 2:\n",
    "        return f\"{N} é um número primo.\"\n",
    "\n",
    "    # Se N for divisível por 2, não é primo\n",
    "    if N % 2 == 0:\n",
    "        return f\"{N} não é um número primo.\"\n",
    "\n",
    "    # Verifica a divisibilidade por ímpares a partir de 3 até a raiz quadrada de N\n",
    "    for i in range(3, int(N**0.5) + 1, 2):\n",
    "        if N % i == 0:\n",
    "            return f\"{N} não é um número primo.\"\n",
    "\n",
    "    # Se nenhum divisor foi encontrado, N é primo\n",
    "    return f\"{N} é um número primo.\"\n",
    "\n",
    "# Exemplo de uso\n",
    "numero = 17  # Altere o valor de acordo com o número que você deseja verificar\n",
    "resultado = verifica_primo_otimizado(numero)\n",
    "print(resultado)"
   ]
  },
  {
   "cell_type": "markdown",
   "id": "3099e6b9",
   "metadata": {},
   "source": [
    "# 6. Peso ideal 1"
   ]
  },
  {
   "cell_type": "code",
   "execution_count": 2,
   "id": "eeb49ffd",
   "metadata": {},
   "outputs": [
    {
     "name": "stdout",
     "output_type": "stream",
     "text": [
      "O ponto médio da faixa normal do IMC é: 21.7\n"
     ]
    }
   ],
   "source": [
    "# Valores dados pela OMS para o IMC\n",
    "valor_inferior = 18.5\n",
    "valor_superior = 24.9\n",
    "\n",
    "# Cálculo do ponto médio\n",
    "ponto_medio = (valor_inferior + valor_superior) / 2\n",
    "\n",
    "# Exibição do resultado\n",
    "print(f\"O ponto médio da faixa normal do IMC é: {ponto_medio}\")"
   ]
  },
  {
   "cell_type": "markdown",
   "id": "d30499fe",
   "metadata": {},
   "source": [
    "# 7. Peso ideal 2"
   ]
  },
  {
   "cell_type": "code",
   "execution_count": 3,
   "id": "abee0f7c",
   "metadata": {},
   "outputs": [
    {
     "ename": "SyntaxError",
     "evalue": "invalid syntax (2304082444.py, line 1)",
     "output_type": "error",
     "traceback": [
      "\u001b[1;36m  Cell \u001b[1;32mIn[3], line 1\u001b[1;36m\u001b[0m\n\u001b[1;33m    Altura fornecida\u001b[0m\n\u001b[1;37m           ^\u001b[0m\n\u001b[1;31mSyntaxError\u001b[0m\u001b[1;31m:\u001b[0m invalid syntax\n"
     ]
    }
   ],
   "source": [
    " Altura fornecida\n",
    "altura = 1.75  # Substitua este valor pela altura desejada em metros\n",
    "\n",
    "# Ponto médio da faixa normal do IMC\n",
    "ponto_medio_imc = (18.5 + 24.9) / 2\n",
    "\n",
    "# Cálculo do peso ideal\n",
    "peso_ideal = ponto_medio_imc * altura**2\n",
    "\n",
    "# Exibição do resultado\n",
    "print(f\"O peso 'ideal' para a altura {altura} m é aproximadamente {peso_ideal:.2f} kg.\")"
   ]
  },
  {
   "cell_type": "markdown",
   "id": "b73c15f4",
   "metadata": {},
   "source": [
    "# 8. Peso ideal 3"
   ]
  },
  {
   "cell_type": "code",
   "execution_count": null,
   "id": "793e2df3",
   "metadata": {},
   "outputs": [],
   "source": [
    "# Lista de alturas dos pacientes\n",
    "alturas_pacientes = [1.65, 1.78, 1.60, 1.85, 1.72]\n",
    "\n",
    "# Ponto médio da faixa normal do IMC\n",
    "ponto_medio_imc = (18.5 + 24.9) / 2\n",
    "\n",
    "# Calcula o peso \"ideal\" para cada altura e cria uma nova lista\n",
    "pesos_ideais = [ponto_medio_imc * altura**2 for altura in alturas_pacientes]\n",
    "\n",
    "# Exibição da nova lista de pesos ideais\n",
    "print(\"Lista de Pesos 'Ideais':\", pesos_ideais)"
   ]
  },
  {
   "cell_type": "markdown",
   "id": "e70c4242",
   "metadata": {},
   "source": [
    "# 9. Peso ideal 4"
   ]
  },
  {
   "cell_type": "code",
   "execution_count": null,
   "id": "9cc3bc18",
   "metadata": {},
   "outputs": [],
   "source": [
    "# Lista de tuplas (altura, peso) dos pacientes\n",
    "dados_pacientes = [(1.65, 60), (1.78, 75), (1.60, 55), (1.85, 80), (1.72, 70)]\n",
    "\n",
    "# Calcula o IMC para cada paciente e cria uma nova lista\n",
    "imc_pacientes = [(peso / altura**2) for altura, peso in dados_pacientes]\n",
    "\n",
    "# Exibição da nova lista de IMC\n",
    "print(\"Lista de IMC dos Pacientes:\", imc_pacientes)"
   ]
  },
  {
   "cell_type": "markdown",
   "id": "a038131f",
   "metadata": {},
   "source": [
    "# 10. Peso ideal 5"
   ]
  },
  {
   "cell_type": "code",
   "execution_count": null,
   "id": "ef191072",
   "metadata": {},
   "outputs": [],
   "source": [
    "# Lista de listas (altura, peso) dos pacientes\n",
    "dados_pacientes = [\n",
    "    [1.65, 60],\n",
    "    [1.78, 75],\n",
    "    [1.60, 55],\n",
    "    [1.85, 80],\n",
    "    [1.72, 70]\n",
    "]\n",
    "\n",
    "# Adiciona o IMC e a classificação à lista de cada paciente\n",
    "for paciente in dados_pacientes:\n",
    "    altura, peso = paciente\n",
    "    imc = peso / altura**2\n",
    "    paciente.append(imc)\n",
    "\n",
    "    # Classificação do IMC segundo a OMS\n",
    "    if 18.5 <= imc <= 24.9:\n",
    "        classificacao = 'normal'\n",
    "    elif imc < 18.5:\n",
    "        classificacao = 'baixo'\n",
    "    else:\n",
    "        classificacao = 'alto'\n",
    "\n",
    "    paciente.append(classificacao)\n",
    "\n",
    "# Exibição da lista de pacientes com IMC e classificação\n",
    "print(\"Lista de Pacientes com IMC e Classificação:\")\n",
    "for paciente in dados_pacientes:\n",
    "    print(paciente)"
   ]
  },
  {
   "cell_type": "code",
   "execution_count": null,
   "id": "b6eebe47",
   "metadata": {},
   "outputs": [],
   "source": []
  }
 ],
 "metadata": {
  "kernelspec": {
   "display_name": "Python 3 (ipykernel)",
   "language": "python",
   "name": "python3"
  },
  "language_info": {
   "codemirror_mode": {
    "name": "ipython",
    "version": 3
   },
   "file_extension": ".py",
   "mimetype": "text/x-python",
   "name": "python",
   "nbconvert_exporter": "python",
   "pygments_lexer": "ipython3",
   "version": "3.11.5"
  },
  "widgets": {
   "application/vnd.jupyter.widget-state+json": {
    "state": {},
    "version_major": 2,
    "version_minor": 0
   }
  }
 },
 "nbformat": 4,
 "nbformat_minor": 5
}
